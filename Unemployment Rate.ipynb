{
    "cells": [
        {
            "metadata": {},
            "cell_type": "code",
            "source": "\nimport types\nimport pandas as pd\nfrom botocore.client import Config\nimport ibm_boto3\n\ndef __iter__(self): return 0\n\n# @hidden_cell\n# The following code accesses a file in your IBM Cloud Object Storage. It includes your credentials.\n# You might want to remove those credentials before you share the notebook.\nclient_b1a6e1a55bde4394b6f348f9d54d0d7d = ibm_boto3.client(service_name='s3',\n    ibm_api_key_id='ddLcSfE2WBb17E9Y7n5rwR3U1NJmaoTQ5Q31zLJeLAyq',\n    ibm_auth_endpoint=\"https://iam.cloud.ibm.com/oidc/token\",\n    config=Config(signature_version='oauth'),\n    endpoint_url='https://s3-api.us-geo.objectstorage.service.networklayer.com')\n\nbody = client_b1a6e1a55bde4394b6f348f9d54d0d7d.get_object(Bucket='fromgallery-donotdelete-pr-a51hdyns4kfxcl',Key='Country Statistics Unemployment Rate.csv')['Body']\n# add missing __iter__ method, so pandas accepts body as file-like object\nif not hasattr(body, \"__iter__\"): body.__iter__ = types.MethodType( __iter__, body )\n\ndf_data_1 = pd.read_csv(body)\ndf_data_1.head()\n",
            "execution_count": 1,
            "outputs": [
                {
                    "output_type": "execute_result",
                    "execution_count": 1,
                    "data": {
                        "text/plain": "   Rank   Country  (%) Date of Information\n0     1  Cambodia  0.0           2011 est.\n1     2     Qatar  0.4           2014 est.\n2     3  Guernsey  0.9     March 2006 est.\n3     4  Thailand  1.0           2014 est.\n4     5   Belarus  1.0           2009 est.",
                        "text/html": "<div>\n<style scoped>\n    .dataframe tbody tr th:only-of-type {\n        vertical-align: middle;\n    }\n\n    .dataframe tbody tr th {\n        vertical-align: top;\n    }\n\n    .dataframe thead th {\n        text-align: right;\n    }\n</style>\n<table border=\"1\" class=\"dataframe\">\n  <thead>\n    <tr style=\"text-align: right;\">\n      <th></th>\n      <th>Rank</th>\n      <th>Country</th>\n      <th>(%)</th>\n      <th>Date of Information</th>\n    </tr>\n  </thead>\n  <tbody>\n    <tr>\n      <th>0</th>\n      <td>1</td>\n      <td>Cambodia</td>\n      <td>0.0</td>\n      <td>2011 est.</td>\n    </tr>\n    <tr>\n      <th>1</th>\n      <td>2</td>\n      <td>Qatar</td>\n      <td>0.4</td>\n      <td>2014 est.</td>\n    </tr>\n    <tr>\n      <th>2</th>\n      <td>3</td>\n      <td>Guernsey</td>\n      <td>0.9</td>\n      <td>March 2006 est.</td>\n    </tr>\n    <tr>\n      <th>3</th>\n      <td>4</td>\n      <td>Thailand</td>\n      <td>1.0</td>\n      <td>2014 est.</td>\n    </tr>\n    <tr>\n      <th>4</th>\n      <td>5</td>\n      <td>Belarus</td>\n      <td>1.0</td>\n      <td>2009 est.</td>\n    </tr>\n  </tbody>\n</table>\n</div>"
                    },
                    "metadata": {}
                }
            ]
        },
        {
            "metadata": {},
            "cell_type": "code",
            "source": "",
            "execution_count": null,
            "outputs": []
        }
    ],
    "metadata": {
        "kernelspec": {
            "name": "python3",
            "display_name": "Python 3.6",
            "language": "python"
        },
        "language_info": {
            "name": "python",
            "version": "3.6.9",
            "mimetype": "text/x-python",
            "codemirror_mode": {
                "name": "ipython",
                "version": 3
            },
            "pygments_lexer": "ipython3",
            "nbconvert_exporter": "python",
            "file_extension": ".py"
        }
    },
    "nbformat": 4,
    "nbformat_minor": 1
}